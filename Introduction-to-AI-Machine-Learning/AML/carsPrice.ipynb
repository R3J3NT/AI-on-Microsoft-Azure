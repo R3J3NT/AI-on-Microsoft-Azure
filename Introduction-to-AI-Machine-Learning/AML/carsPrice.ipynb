{
  "cells": [
    {
      "cell_type": "markdown",
      "source": [
        "# AUTO ML - Predict Cars Price"
      ],
      "metadata": {
        "nteract": {
          "transient": {
            "deleting": false
          }
        }
      }
    },
    {
      "cell_type": "markdown",
      "source": [
        "## USE CASE \r\n",
        "Data contains information about cars sold in US. The use case is to predict price of the car based on parameters. </br>\r\n",
        "Below you can see representation of the part of the data: </br></br>\r\n",
        "<img src=\"https://github.com/R3J3NT/AI-on-Microsoft-Azure/blob/main/Introduction-to-AI-Machine-Learning/AML/images/dataTable.PNG?raw=true\">"
      ],
      "metadata": {
        "nteract": {
          "transient": {
            "deleting": false
          }
        }
      }
    },
    {
      "cell_type": "markdown",
      "source": [
        "## Create resources on Azure Portal\r\n",
        "<ol>\r\n",
        "<li>Go to Azure portal and create Resource Group</li>\r\n",
        "<li>Create Azure Machine Learning</li>\r\n",
        "</ol>"
      ],
      "metadata": {
        "nteract": {
          "transient": {
            "deleting": false
          }
        }
      }
    },
    {
      "cell_type": "markdown",
      "source": [
        "## Load data to Azure Machine Learning Portal\r\n",
        "<ol>\r\n",
        "<li>Go to Machine Learning Portal https://ml.azure.com/</li>\r\n",
        "<li>Go to datasets tab</li>\r\n",
        "<li>Import new file from local drive</li>\r\n",
        "<li>Configure columns and rows data</li></ol></br>\r\n",
        "<img src=\"https://github.com/R3J3NT/AI-on-Microsoft-Azure/blob/main/Introduction-to-AI-Machine-Learning/AML/images/newDataset.png?raw=true\">"
      ],
      "metadata": {
        "nteract": {
          "transient": {
            "deleting": false
          }
        }
      }
    },
    {
      "cell_type": "markdown",
      "source": [
        "## Create new Notebook\r\n",
        "<ol>\r\n",
        "<li>Go to Notebooks tab</li>\r\n",
        "<li>Create new Notebook</li>\r\n",
        "<li>Create new Compute instance, with parameters depending of your needs </li></ol></br>\r\n",
        "<img src=\"https://github.com/R3J3NT/AI-on-Microsoft-Azure/blob/main/Introduction-to-AI-Machine-Learning/AML/images/clusterData.PNG?raw=true\">"
      ],
      "metadata": {
        "nteract": {
          "transient": {
            "deleting": false
          }
        }
      }
    },
    {
      "cell_type": "markdown",
      "source": [
        "## Authenticate to Azure"
      ],
      "metadata": {
        "nteract": {
          "transient": {
            "deleting": false
          }
        }
      }
    },
    {
      "cell_type": "code",
      "source": [
        "from azureml.core import Workspace, Dataset\r\n",
        "\r\n",
        "ws = Workspace.from_config()"
      ],
      "outputs": [],
      "execution_count": 1,
      "metadata": {
        "collapsed": true,
        "jupyter": {
          "source_hidden": false,
          "outputs_hidden": false
        },
        "nteract": {
          "transient": {
            "deleting": false
          }
        },
        "gather": {
          "logged": 1609427666056
        }
      }
    },
    {
      "cell_type": "markdown",
      "source": [
        "## Load previously created dataset by name parameter"
      ],
      "metadata": {
        "nteract": {
          "transient": {
            "deleting": false
          }
        }
      }
    },
    {
      "cell_type": "code",
      "source": [
        "aml_dataset = Dataset.get_by_name(ws, name='USCarsData')\r\n",
        "\r\n",
        "full_df = aml_dataset.to_pandas_dataframe()\r\n",
        "full_df.head()"
      ],
      "outputs": [
        {
          "output_type": "execute_result",
          "execution_count": 2,
          "data": {
            "text/plain": "   price      brand    model  year   title_status   mileage   color  \\\n0   6300     toyota  cruiser  2008  clean vehicle  274117.0   black   \n1   2899       ford       se  2011  clean vehicle  190552.0  silver   \n2   5350      dodge      mpv  2018  clean vehicle   39590.0  silver   \n3  25000       ford     door  2014  clean vehicle   64146.0    blue   \n4  27700  chevrolet     1500  2018  clean vehicle    6654.0     red   \n\n        state country      condition  \n0  new jersey     usa   10 days left  \n1   tennessee     usa    6 days left  \n2     georgia     usa    2 days left  \n3    virginia     usa  22 hours left  \n4     florida     usa  22 hours left  ",
            "text/html": "<div>\n<style scoped>\n    .dataframe tbody tr th:only-of-type {\n        vertical-align: middle;\n    }\n\n    .dataframe tbody tr th {\n        vertical-align: top;\n    }\n\n    .dataframe thead th {\n        text-align: right;\n    }\n</style>\n<table border=\"1\" class=\"dataframe\">\n  <thead>\n    <tr style=\"text-align: right;\">\n      <th></th>\n      <th>price</th>\n      <th>brand</th>\n      <th>model</th>\n      <th>year</th>\n      <th>title_status</th>\n      <th>mileage</th>\n      <th>color</th>\n      <th>state</th>\n      <th>country</th>\n      <th>condition</th>\n    </tr>\n  </thead>\n  <tbody>\n    <tr>\n      <th>0</th>\n      <td>6300</td>\n      <td>toyota</td>\n      <td>cruiser</td>\n      <td>2008</td>\n      <td>clean vehicle</td>\n      <td>274117.0</td>\n      <td>black</td>\n      <td>new jersey</td>\n      <td>usa</td>\n      <td>10 days left</td>\n    </tr>\n    <tr>\n      <th>1</th>\n      <td>2899</td>\n      <td>ford</td>\n      <td>se</td>\n      <td>2011</td>\n      <td>clean vehicle</td>\n      <td>190552.0</td>\n      <td>silver</td>\n      <td>tennessee</td>\n      <td>usa</td>\n      <td>6 days left</td>\n    </tr>\n    <tr>\n      <th>2</th>\n      <td>5350</td>\n      <td>dodge</td>\n      <td>mpv</td>\n      <td>2018</td>\n      <td>clean vehicle</td>\n      <td>39590.0</td>\n      <td>silver</td>\n      <td>georgia</td>\n      <td>usa</td>\n      <td>2 days left</td>\n    </tr>\n    <tr>\n      <th>3</th>\n      <td>25000</td>\n      <td>ford</td>\n      <td>door</td>\n      <td>2014</td>\n      <td>clean vehicle</td>\n      <td>64146.0</td>\n      <td>blue</td>\n      <td>virginia</td>\n      <td>usa</td>\n      <td>22 hours left</td>\n    </tr>\n    <tr>\n      <th>4</th>\n      <td>27700</td>\n      <td>chevrolet</td>\n      <td>1500</td>\n      <td>2018</td>\n      <td>clean vehicle</td>\n      <td>6654.0</td>\n      <td>red</td>\n      <td>florida</td>\n      <td>usa</td>\n      <td>22 hours left</td>\n    </tr>\n  </tbody>\n</table>\n</div>"
          },
          "metadata": {}
        }
      ],
      "execution_count": 2,
      "metadata": {
        "collapsed": true,
        "jupyter": {
          "source_hidden": false,
          "outputs_hidden": false
        },
        "nteract": {
          "transient": {
            "deleting": false
          }
        },
        "gather": {
          "logged": 1609427673708
        }
      }
    },
    {
      "cell_type": "markdown",
      "source": [
        "## Split dataset to traning and testing set"
      ],
      "metadata": {
        "nteract": {
          "transient": {
            "deleting": false
          }
        }
      }
    },
    {
      "cell_type": "code",
      "source": [
        "train_dataset, test_dataset = aml_dataset.random_split(0.8, seed=23423)\r\n",
        "\r\n",
        "train_dataset_df = train_dataset.to_pandas_dataframe()\r\n",
        "test_dataset_df = test_dataset.to_pandas_dataframe()\r\n",
        "\r\n",
        "print(train_dataset_df.describe())"
      ],
      "outputs": [
        {
          "output_type": "stream",
          "name": "stdout",
          "text": [
            "              price         year       mileage\n",
            "count   1999.000000  1999.000000  1.999000e+03\n",
            "mean   18583.241621  2016.687344  5.191408e+04\n",
            "std    12139.191183     3.538547  5.555603e+04\n",
            "min        0.000000  1973.000000  0.000000e+00\n",
            "25%     9752.500000  2016.000000  2.127550e+04\n",
            "50%    16800.000000  2018.000000  3.527400e+04\n",
            "75%    25350.000000  2019.000000  6.261250e+04\n",
            "max    84900.000000  2020.000000  1.017936e+06\n"
          ]
        }
      ],
      "execution_count": 3,
      "metadata": {
        "collapsed": true,
        "jupyter": {
          "source_hidden": false,
          "outputs_hidden": false
        },
        "nteract": {
          "transient": {
            "deleting": false
          }
        },
        "gather": {
          "logged": 1609427679075
        }
      }
    },
    {
      "cell_type": "markdown",
      "source": [
        "## Connect to previously created Compute Unit"
      ],
      "metadata": {
        "nteract": {
          "transient": {
            "deleting": false
          }
        }
      }
    },
    {
      "cell_type": "code",
      "source": [
        "from azureml.core.compute import AmlCompute\r\n",
        "from azureml.core.compute import ComputeTarget\r\n",
        "\r\n",
        "amlcompute_cluster_name = \"CarsCluster\"\r\n",
        "\r\n",
        "found = False\r\n",
        "cts = ws.compute_targets\r\n",
        "\r\n",
        "if amlcompute_cluster_name in cts and cts[amlcompute_cluster_name].type == 'ComputeInstance':\r\n",
        "     found = True\r\n",
        "     print('Found existing training cluster.')\r\n",
        "     # Get existing cluster\r\n",
        "     # Method 1:\r\n",
        "     aml_remote_compute = cts[amlcompute_cluster_name]\r\n",
        "     # Method 2:\r\n",
        "     # aml_remote_compute = ComputeTarget(ws, amlcompute_cluster_name)\r\n",
        "    \r\n",
        "if not found:\r\n",
        "     print('Cluster not exists...')\r\n",
        "    \r\n",
        "print('Checking cluster status...')\r\n",
        "# Can poll for a minimum number of nodes and for a specific timeout.\r\n",
        "# If no min_node_count is provided, it will use the scale settings for the cluster.\r\n",
        "aml_remote_compute.wait_for_completion(show_output = True)"
      ],
      "outputs": [
        {
          "output_type": "stream",
          "name": "stdout",
          "text": [
            "Found existing training cluster.\n",
            "Checking cluster status...\n",
            "\n",
            "Running\n"
          ]
        }
      ],
      "execution_count": 4,
      "metadata": {
        "collapsed": true,
        "jupyter": {
          "source_hidden": false,
          "outputs_hidden": false
        },
        "nteract": {
          "transient": {
            "deleting": false
          }
        },
        "gather": {
          "logged": 1609427693374
        }
      }
    },
    {
      "cell_type": "markdown",
      "source": [
        "## Check metrics which can be applied with regression"
      ],
      "metadata": {
        "nteract": {
          "transient": {
            "deleting": false
          }
        }
      }
    },
    {
      "cell_type": "code",
      "source": [
        "from azureml.train import automl\r\n",
        "\r\n",
        "automl.utilities.get_primary_metrics('regression')"
      ],
      "outputs": [
        {
          "output_type": "execute_result",
          "execution_count": 5,
          "data": {
            "text/plain": "['spearman_correlation',\n 'r2_score',\n 'normalized_root_mean_squared_error',\n 'normalized_mean_absolute_error']"
          },
          "metadata": {}
        }
      ],
      "execution_count": 5,
      "metadata": {
        "collapsed": true,
        "jupyter": {
          "source_hidden": false,
          "outputs_hidden": false
        },
        "nteract": {
          "transient": {
            "deleting": false
          }
        },
        "gather": {
          "logged": 1609427696603
        }
      }
    },
    {
      "cell_type": "markdown",
      "source": [
        "## Configure experiment paramiters\r\n",
        "For regresion change only label_column_name to column which you would like to predict"
      ],
      "metadata": {
        "nteract": {
          "transient": {
            "deleting": false
          }
        }
      }
    },
    {
      "cell_type": "code",
      "source": [
        "import logging\r\n",
        "import os\r\n",
        "\r\n",
        "from azureml.train.automl import AutoMLConfig\r\n",
        "\r\n",
        "project_folder = './'\r\n",
        "os.makedirs(project_folder, exist_ok=True)\r\n",
        "\r\n",
        "automl_config = AutoMLConfig(compute_target=aml_remote_compute,\r\n",
        "                             task='regression',\r\n",
        "                             primary_metric='r2_score',\r\n",
        "                             experiment_timeout_minutes=15,                            \r\n",
        "                             training_data=train_dataset,\r\n",
        "                             label_column_name=\"price\",\r\n",
        "                             n_cross_validations=5,\r\n",
        "                             # blacklist_models='XGBoostClassifier', \r\n",
        "                             # iteration_timeout_minutes=5,                                                    \r\n",
        "                             enable_early_stopping=True,\r\n",
        "                             featurization='auto',\r\n",
        "                             debug_log='automated_ml_errors.log',\r\n",
        "                             verbosity=logging.INFO,\r\n",
        "                             path=project_folder\r\n",
        "                             )"
      ],
      "outputs": [],
      "execution_count": 6,
      "metadata": {
        "collapsed": true,
        "jupyter": {
          "source_hidden": false,
          "outputs_hidden": false
        },
        "nteract": {
          "transient": {
            "deleting": false
          }
        },
        "gather": {
          "logged": 1609427707979
        }
      }
    },
    {
      "cell_type": "markdown",
      "source": [
        "## Start experiment"
      ],
      "metadata": {
        "nteract": {
          "transient": {
            "deleting": false
          }
        }
      }
    },
    {
      "cell_type": "code",
      "source": [
        "from azureml.core import Experiment\r\n",
        "from datetime import datetime\r\n",
        "\r\n",
        "now = datetime.now()\r\n",
        "time_string = now.strftime(\"%m-%d-%Y-%H\")\r\n",
        "experiment_name = \"regress-automl-remote-{0}\".format(time_string)\r\n",
        "print(experiment_name)\r\n",
        "\r\n",
        "experiment = Experiment(workspace=ws, name=experiment_name)\r\n",
        "\r\n",
        "import time\r\n",
        "start_time = time.time()\r\n",
        "            \r\n",
        "run = experiment.submit(automl_config, show_output=True)\r\n",
        "\r\n",
        "print('Manual run timing: --- %s seconds needed for running the whole Remote AutoML Experiment ---' % (time.time() - start_time))"
      ],
      "outputs": [
        {
          "output_type": "stream",
          "name": "stdout",
          "text": [
            "regress-automl-remote-12-31-2020-15\n",
            "Running on remote.\n",
            "No run_configuration provided, running on CarsCluster with default configuration\n",
            "Running on remote compute: CarsCluster\n",
            "Parent Run ID: AutoML_41db094e-bb8c-48d7-92ce-79293d95e23f\n",
            "\n",
            "Current status: FeaturesGeneration. Generating features for the dataset.\n",
            "Current status: DatasetCrossValidationSplit. Generating individually featurized CV splits.\n",
            "Current status: ModelSelection. Beginning model selection.\n",
            "\n",
            "****************************************************************************************************\n",
            "DATA GUARDRAILS: \n",
            "\n",
            "TYPE:         Missing feature values imputation\n",
            "STATUS:       PASSED\n",
            "DESCRIPTION:  No feature missing values were detected in the training data.\n",
            "              Learn more about missing value imputation: https://aka.ms/AutomatedMLFeaturization\n",
            "\n",
            "****************************************************************************************************\n",
            "\n",
            "TYPE:         High cardinality feature detection\n",
            "STATUS:       DONE\n",
            "DESCRIPTION:  High cardinality features were detected in your inputs and handled.\n",
            "              Learn more about high cardinality feature handling: https://aka.ms/AutomatedMLFeaturization\n",
            "DETAILS:      High cardinality features refer to columns that contain a large percentage of unique values.\n",
            "+---------------------------------+---------------------------------+\n",
            "|Column name                      |Column Content Type              |\n",
            "+=================================+=================================+\n",
            "|model                            |categorical_hash                 |\n",
            "+---------------------------------+---------------------------------+\n",
            "\n",
            "****************************************************************************************************\n",
            "\n",
            "****************************************************************************************************\n",
            "ITERATION: The iteration being evaluated.\n",
            "PIPELINE: A summary description of the pipeline being evaluated.\n",
            "DURATION: Time taken for the current iteration.\n",
            "METRIC: The result of computing score on the fitted pipeline.\n",
            "BEST: The best observed score thus far.\n",
            "****************************************************************************************************\n",
            "\n",
            " ITERATION   PIPELINE                                       DURATION      METRIC      BEST\n",
            "         0   MaxAbsScaler LightGBM                          0:00:46       0.6430    0.6430\n",
            "         1   MaxAbsScaler XGBoostRegressor                  0:00:45       0.6166    0.6430\n",
            "         2   SparseNormalizer XGBoostRegressor              0:00:51       0.6352    0.6430\n",
            "         3   MaxAbsScaler RandomForest                      0:00:56       0.5825    0.6430\n",
            "         4   StandardScalerWrapper XGBoostRegressor         0:00:41       0.6852    0.6852\n",
            "         5   MaxAbsScaler ElasticNet                        0:00:48       0.6150    0.6852\n",
            "         6   MaxAbsScaler RandomForest                      0:00:56       0.4896    0.6852\n",
            "         7   StandardScalerWrapper XGBoostRegressor         0:00:53       0.6727    0.6852\n",
            "         8   MaxAbsScaler ExtremeRandomTrees                0:00:54       0.6383    0.6852\n",
            "         9   StandardScalerWrapper ElasticNet               0:00:49       0.6187    0.6852\n",
            "        10   MaxAbsScaler RandomForest                      0:00:56       0.5664    0.6852\n",
            "        11   MaxAbsScaler RandomForest                      0:00:44       0.5083    0.6852\n",
            "        12   StandardScalerWrapper XGBoostRegressor         0:00:48       0.5947    0.6852\n",
            "        13   MaxAbsScaler ExtremeRandomTrees                0:00:51       0.6374    0.6852\n",
            "        14    VotingEnsemble                                0:00:57       0.7031    0.7031\n",
            "        15    StackEnsemble                                 0:01:16       0.7011    0.7031\n",
            "Manual run timing: --- 1217.7170567512512 seconds needed for running the whole Remote AutoML Experiment ---\n"
          ]
        }
      ],
      "execution_count": 7,
      "metadata": {
        "collapsed": true,
        "jupyter": {
          "source_hidden": false,
          "outputs_hidden": false
        },
        "nteract": {
          "transient": {
            "deleting": false
          }
        },
        "gather": {
          "logged": 1609428929033
        }
      }
    },
    {
      "cell_type": "markdown",
      "source": [
        "## Get results of best model from experiment"
      ],
      "metadata": {
        "nteract": {
          "transient": {
            "deleting": false
          }
        }
      }
    },
    {
      "cell_type": "code",
      "source": [
        "best_run, fitted_model = run.get_output()\r\n",
        "print(best_run)\r\n",
        "print(fitted_model)"
      ],
      "outputs": [
        {
          "output_type": "stream",
          "name": "stdout",
          "text": [
            "Run(Experiment: regress-automl-remote-12-31-2020-15,\n",
            "Id: AutoML_41db094e-bb8c-48d7-92ce-79293d95e23f_14,\n",
            "Type: azureml.scriptrun,\n",
            "Status: Completed)\n",
            "RegressionPipeline(pipeline=Pipeline(memory=None,\n",
            "                                     steps=[('datatransformer',\n",
            "                                             DataTransformer(enable_dnn=None,\n",
            "                                                             enable_feature_sweeping=None,\n",
            "                                                             feature_sweeping_config=None,\n",
            "                                                             feature_sweeping_timeout=None,\n",
            "                                                             featurization_config=None,\n",
            "                                                             force_text_dnn=None,\n",
            "                                                             is_cross_validation=None,\n",
            "                                                             is_onnx_compatible=None,\n",
            "                                                             logger=None,\n",
            "                                                             observer=None,\n",
            "                                                             task=None,\n",
            "                                                             working_dir=None)),\n",
            "                                            ('pre...\n",
            "                                                                                                steps=[('maxabsscaler',\n",
            "                                                                                                        MaxAbsScaler(copy=True)),\n",
            "                                                                                                       ('elasticnet',\n",
            "                                                                                                        ElasticNet(alpha=0.001,\n",
            "                                                                                                                   copy_X=True,\n",
            "                                                                                                                   fit_intercept=True,\n",
            "                                                                                                                   l1_ratio=1,\n",
            "                                                                                                                   max_iter=1000,\n",
            "                                                                                                                   normalize=False,\n",
            "                                                                                                                   positive=False,\n",
            "                                                                                                                   precompute=False,\n",
            "                                                                                                                   random_state=None,\n",
            "                                                                                                                   selection='cyclic',\n",
            "                                                                                                                   tol=0.0001,\n",
            "                                                                                                                   warm_start=False))],\n",
            "                                                                                                verbose=False))],\n",
            "                                                                          weights=[0.4,\n",
            "                                                                                   0.06666666666666667,\n",
            "                                                                                   0.13333333333333333,\n",
            "                                                                                   0.2,\n",
            "                                                                                   0.2]))],\n",
            "                                     verbose=False),\n",
            "                   stddev=None)\n"
          ]
        }
      ],
      "execution_count": 8,
      "metadata": {
        "collapsed": true,
        "jupyter": {
          "source_hidden": false,
          "outputs_hidden": false
        },
        "nteract": {
          "transient": {
            "deleting": false
          }
        },
        "gather": {
          "logged": 1609429120109
        }
      }
    },
    {
      "cell_type": "markdown",
      "source": [
        "## Prepare testing set, remove values to predict"
      ],
      "metadata": {
        "nteract": {
          "transient": {
            "deleting": false
          }
        }
      }
    },
    {
      "cell_type": "code",
      "source": [
        "import pandas as pd\r\n",
        "\r\n",
        "#Remove Label/y column\r\n",
        "if 'price' in test_dataset_df.columns:\r\n",
        "    y_test_df = test_dataset_df.pop('price')\r\n",
        "\r\n",
        "x_test_df = test_dataset_df"
      ],
      "outputs": [],
      "execution_count": 9,
      "metadata": {
        "collapsed": true,
        "jupyter": {
          "source_hidden": false,
          "outputs_hidden": false
        },
        "nteract": {
          "transient": {
            "deleting": false
          }
        },
        "gather": {
          "logged": 1609429136492
        }
      }
    },
    {
      "cell_type": "markdown",
      "source": [
        "## Test predicitions using trained model"
      ],
      "metadata": {
        "nteract": {
          "transient": {
            "deleting": false
          }
        }
      }
    },
    {
      "cell_type": "code",
      "source": [
        "y_predictions = fitted_model.predict(x_test_df)\r\n",
        "\r\n",
        "print('10 predictions: ')\r\n",
        "print(y_predictions[:10])"
      ],
      "outputs": [
        {
          "output_type": "stream",
          "name": "stdout",
          "text": [
            "10 predictions: \n",
            "[ 4976.5247239  16135.67080713 26837.87049122 18831.07828488\n",
            " 21427.58059085  7097.02730724 12830.82325822 30708.952202\n",
            " 17309.78479339 17092.58532277]\n"
          ]
        }
      ],
      "execution_count": 10,
      "metadata": {
        "collapsed": true,
        "jupyter": {
          "source_hidden": false,
          "outputs_hidden": false
        },
        "nteract": {
          "transient": {
            "deleting": false
          }
        },
        "gather": {
          "logged": 1609429139647
        }
      }
    },
    {
      "cell_type": "markdown",
      "source": [
        "## Get value of r2_score"
      ],
      "metadata": {
        "nteract": {
          "transient": {
            "deleting": false
          }
        }
      }
    },
    {
      "cell_type": "code",
      "source": [
        "from sklearn.metrics import r2_score\r\n",
        "\r\n",
        "print('R2 Score:')\r\n",
        "r2_score(y_test_df, y_predictions)"
      ],
      "outputs": [
        {
          "output_type": "stream",
          "name": "stdout",
          "text": [
            "R2 Score:\n"
          ]
        },
        {
          "output_type": "execute_result",
          "execution_count": 11,
          "data": {
            "text/plain": "0.6826730967720989"
          },
          "metadata": {}
        }
      ],
      "execution_count": 11,
      "metadata": {
        "collapsed": true,
        "jupyter": {
          "source_hidden": false,
          "outputs_hidden": false
        },
        "nteract": {
          "transient": {
            "deleting": false
          }
        },
        "gather": {
          "logged": 1609429142324
        }
      }
    },
    {
      "cell_type": "markdown",
      "source": [
        "The r2_score metric shows us value almost 70%, which is good result but for sure it can be improved using more data about cars in dataset. "
      ],
      "metadata": {
        "nteract": {
          "transient": {
            "deleting": false
          }
        }
      }
    }
  ],
  "metadata": {
    "kernelspec": {
      "name": "python3-azureml",
      "language": "python",
      "display_name": "Python 3.6 - AzureML"
    },
    "language_info": {
      "name": "python",
      "version": "3.6.9",
      "mimetype": "text/x-python",
      "codemirror_mode": {
        "name": "ipython",
        "version": 3
      },
      "pygments_lexer": "ipython3",
      "nbconvert_exporter": "python",
      "file_extension": ".py"
    },
    "kernel_info": {
      "name": "python3-azureml"
    },
    "nteract": {
      "version": "nteract-front-end@1.0.0"
    }
  },
  "nbformat": 4,
  "nbformat_minor": 2
}